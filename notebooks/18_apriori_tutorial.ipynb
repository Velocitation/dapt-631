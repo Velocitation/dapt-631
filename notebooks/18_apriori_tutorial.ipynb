{
 "cells": [
  {
   "cell_type": "markdown",
   "metadata": {},
   "source": [
    "This example is created based on `mlxtend` library's documentation page ([link](https://rasbt.github.io/mlxtend/user_guide/frequent_patterns/association_rules/)). This notebook demonstrates some basic concepts of association analysis "
   ]
  },
  {
   "cell_type": "markdown",
   "metadata": {},
   "source": [
    "### Import Packages"
   ]
  },
  {
   "cell_type": "code",
   "execution_count": 1,
   "metadata": {},
   "outputs": [],
   "source": [
    "import pandas as pd\n",
    "from itertools import combinations\n",
    "from collections import Counter\n",
    "from mlxtend.preprocessing import TransactionEncoder"
   ]
  },
  {
   "cell_type": "markdown",
   "metadata": {},
   "source": [
    "### Data"
   ]
  },
  {
   "cell_type": "markdown",
   "metadata": {},
   "source": [
    "Let's create a toy data set for this exercise."
   ]
  },
  {
   "cell_type": "code",
   "execution_count": 2,
   "metadata": {},
   "outputs": [],
   "source": [
    "dataset = [['Milk', 'Onion', 'Nutmeg', 'Kidney Beans', 'Eggs', 'Yogurt'],\n",
    "           ['Dill', 'Onion', 'Nutmeg', 'Kidney Beans', 'Eggs', 'Yogurt'],\n",
    "           ['Milk', 'Apple', 'Kidney Beans', 'Eggs'],\n",
    "           ['Milk', 'Garlic', 'Corn', 'Kidney Beans', 'Yogurt'],\n",
    "           ['Corn', 'Onion', 'Onion', 'Kidney Beans', 'Ice cream', 'Eggs']]"
   ]
  },
  {
   "cell_type": "markdown",
   "metadata": {},
   "source": [
    "### Prepare (transform) data"
   ]
  },
  {
   "cell_type": "markdown",
   "metadata": {},
   "source": [
    "Binary representation"
   ]
  },
  {
   "cell_type": "code",
   "execution_count": 3,
   "metadata": {},
   "outputs": [
    {
     "data": {
      "text/plain": [
       "array([[False, False, False,  True, False, False,  True,  True,  True,\n",
       "         True,  True],\n",
       "       [False, False,  True,  True, False, False,  True, False,  True,\n",
       "         True,  True],\n",
       "       [ True, False, False,  True, False, False,  True,  True, False,\n",
       "        False, False],\n",
       "       [False,  True, False, False,  True, False,  True,  True, False,\n",
       "        False,  True],\n",
       "       [False,  True, False,  True, False,  True,  True, False, False,\n",
       "         True, False]])"
      ]
     },
     "execution_count": 3,
     "metadata": {},
     "output_type": "execute_result"
    }
   ],
   "source": [
    "te = TransactionEncoder()\n",
    "\n",
    "te_ary = te.fit(dataset).transform(dataset)\n",
    "\n",
    "te_ary"
   ]
  },
  {
   "cell_type": "code",
   "execution_count": 6,
   "metadata": {},
   "outputs": [
    {
     "data": {
      "text/plain": [
       "['Apple',\n",
       " 'Corn',\n",
       " 'Dill',\n",
       " 'Eggs',\n",
       " 'Garlic',\n",
       " 'Ice cream',\n",
       " 'Kidney Beans',\n",
       " 'Milk',\n",
       " 'Nutmeg',\n",
       " 'Onion',\n",
       " 'Yogurt']"
      ]
     },
     "execution_count": 6,
     "metadata": {},
     "output_type": "execute_result"
    }
   ],
   "source": [
    "te.columns_"
   ]
  },
  {
   "cell_type": "code",
   "execution_count": 7,
   "metadata": {},
   "outputs": [
    {
     "data": {
      "text/html": [
       "<div>\n",
       "<style scoped>\n",
       "    .dataframe tbody tr th:only-of-type {\n",
       "        vertical-align: middle;\n",
       "    }\n",
       "\n",
       "    .dataframe tbody tr th {\n",
       "        vertical-align: top;\n",
       "    }\n",
       "\n",
       "    .dataframe thead th {\n",
       "        text-align: right;\n",
       "    }\n",
       "</style>\n",
       "<table border=\"1\" class=\"dataframe\">\n",
       "  <thead>\n",
       "    <tr style=\"text-align: right;\">\n",
       "      <th></th>\n",
       "      <th>Apple</th>\n",
       "      <th>Corn</th>\n",
       "      <th>Dill</th>\n",
       "      <th>Eggs</th>\n",
       "      <th>Garlic</th>\n",
       "      <th>Ice cream</th>\n",
       "      <th>Kidney Beans</th>\n",
       "      <th>Milk</th>\n",
       "      <th>Nutmeg</th>\n",
       "      <th>Onion</th>\n",
       "      <th>Yogurt</th>\n",
       "    </tr>\n",
       "  </thead>\n",
       "  <tbody>\n",
       "    <tr>\n",
       "      <th>0</th>\n",
       "      <td>False</td>\n",
       "      <td>False</td>\n",
       "      <td>False</td>\n",
       "      <td>True</td>\n",
       "      <td>False</td>\n",
       "      <td>False</td>\n",
       "      <td>True</td>\n",
       "      <td>True</td>\n",
       "      <td>True</td>\n",
       "      <td>True</td>\n",
       "      <td>True</td>\n",
       "    </tr>\n",
       "    <tr>\n",
       "      <th>1</th>\n",
       "      <td>False</td>\n",
       "      <td>False</td>\n",
       "      <td>True</td>\n",
       "      <td>True</td>\n",
       "      <td>False</td>\n",
       "      <td>False</td>\n",
       "      <td>True</td>\n",
       "      <td>False</td>\n",
       "      <td>True</td>\n",
       "      <td>True</td>\n",
       "      <td>True</td>\n",
       "    </tr>\n",
       "    <tr>\n",
       "      <th>2</th>\n",
       "      <td>True</td>\n",
       "      <td>False</td>\n",
       "      <td>False</td>\n",
       "      <td>True</td>\n",
       "      <td>False</td>\n",
       "      <td>False</td>\n",
       "      <td>True</td>\n",
       "      <td>True</td>\n",
       "      <td>False</td>\n",
       "      <td>False</td>\n",
       "      <td>False</td>\n",
       "    </tr>\n",
       "    <tr>\n",
       "      <th>3</th>\n",
       "      <td>False</td>\n",
       "      <td>True</td>\n",
       "      <td>False</td>\n",
       "      <td>False</td>\n",
       "      <td>True</td>\n",
       "      <td>False</td>\n",
       "      <td>True</td>\n",
       "      <td>True</td>\n",
       "      <td>False</td>\n",
       "      <td>False</td>\n",
       "      <td>True</td>\n",
       "    </tr>\n",
       "    <tr>\n",
       "      <th>4</th>\n",
       "      <td>False</td>\n",
       "      <td>True</td>\n",
       "      <td>False</td>\n",
       "      <td>True</td>\n",
       "      <td>False</td>\n",
       "      <td>True</td>\n",
       "      <td>True</td>\n",
       "      <td>False</td>\n",
       "      <td>False</td>\n",
       "      <td>True</td>\n",
       "      <td>False</td>\n",
       "    </tr>\n",
       "  </tbody>\n",
       "</table>\n",
       "</div>"
      ],
      "text/plain": [
       "   Apple   Corn   Dill   Eggs  Garlic  Ice cream  Kidney Beans   Milk  Nutmeg  \\\n",
       "0  False  False  False   True   False      False          True   True    True   \n",
       "1  False  False   True   True   False      False          True  False    True   \n",
       "2   True  False  False   True   False      False          True   True   False   \n",
       "3  False   True  False  False    True      False          True   True   False   \n",
       "4  False   True  False   True   False       True          True  False   False   \n",
       "\n",
       "   Onion  Yogurt  \n",
       "0   True    True  \n",
       "1   True    True  \n",
       "2  False   False  \n",
       "3  False    True  \n",
       "4   True   False  "
      ]
     },
     "execution_count": 7,
     "metadata": {},
     "output_type": "execute_result"
    }
   ],
   "source": [
    "# let's create a dataframe from these results\n",
    "df = pd.DataFrame(te_ary, columns=te.columns_)\n",
    "df.head()"
   ]
  },
  {
   "cell_type": "markdown",
   "metadata": {},
   "source": [
    "### `Support`"
   ]
  },
  {
   "cell_type": "markdown",
   "metadata": {},
   "source": [
    "Calculate `support` for each individual product."
   ]
  },
  {
   "cell_type": "code",
   "execution_count": 8,
   "metadata": {},
   "outputs": [
    {
     "data": {
      "text/plain": [
       "Apple           1\n",
       "Corn            2\n",
       "Dill            1\n",
       "Eggs            4\n",
       "Garlic          1\n",
       "Ice cream       1\n",
       "Kidney Beans    5\n",
       "Milk            3\n",
       "Nutmeg          2\n",
       "Onion           3\n",
       "Yogurt          3\n",
       "dtype: int64"
      ]
     },
     "execution_count": 8,
     "metadata": {},
     "output_type": "execute_result"
    }
   ],
   "source": [
    "df.sum()"
   ]
  },
  {
   "cell_type": "code",
   "execution_count": 9,
   "metadata": {},
   "outputs": [
    {
     "data": {
      "text/plain": [
       "Apple           0.2\n",
       "Corn            0.4\n",
       "Dill            0.2\n",
       "Eggs            0.8\n",
       "Garlic          0.2\n",
       "Ice cream       0.2\n",
       "Kidney Beans    1.0\n",
       "Milk            0.6\n",
       "Nutmeg          0.4\n",
       "Onion           0.6\n",
       "Yogurt          0.6\n",
       "dtype: float64"
      ]
     },
     "execution_count": 9,
     "metadata": {},
     "output_type": "execute_result"
    }
   ],
   "source": [
    "item_supports = df.sum() / len(df)\n",
    "item_supports"
   ]
  },
  {
   "cell_type": "code",
   "execution_count": 10,
   "metadata": {},
   "outputs": [
    {
     "data": {
      "image/png": "[encoded data removed]",
      "text/plain": [
       "<Figure size 432x288 with 1 Axes>"
      ]
     },
     "metadata": {
      "needs_background": "light"
     },
     "output_type": "display_data"
    }
   ],
   "source": [
    "item_supports = item_supports.sort_values(ascending=False)\n",
    "item_supports.plot.bar();"
   ]
  },
  {
   "cell_type": "markdown",
   "metadata": {},
   "source": [
    "Extract all two-way combinations."
   ]
  },
  {
   "cell_type": "code",
   "execution_count": 11,
   "metadata": {},
   "outputs": [
    {
     "data": {
      "text/plain": [
       "['Milk', 'Onion', 'Nutmeg', 'Kidney Beans', 'Eggs', 'Yogurt']"
      ]
     },
     "execution_count": 11,
     "metadata": {},
     "output_type": "execute_result"
    }
   ],
   "source": [
    "# let's take the first row as an example first\n",
    "dataset[0]"
   ]
  },
  {
   "cell_type": "code",
   "execution_count": 13,
   "metadata": {},
   "outputs": [
    {
     "data": {
      "text/plain": [
       "[('Milk', 'Onion'),\n",
       " ('Milk', 'Nutmeg'),\n",
       " ('Milk', 'Kidney Beans'),\n",
       " ('Milk', 'Eggs'),\n",
       " ('Milk', 'Yogurt'),\n",
       " ('Onion', 'Nutmeg'),\n",
       " ('Onion', 'Kidney Beans'),\n",
       " ('Onion', 'Eggs'),\n",
       " ('Onion', 'Yogurt'),\n",
       " ('Nutmeg', 'Kidney Beans'),\n",
       " ('Nutmeg', 'Eggs'),\n",
       " ('Nutmeg', 'Yogurt'),\n",
       " ('Kidney Beans', 'Eggs'),\n",
       " ('Kidney Beans', 'Yogurt'),\n",
       " ('Eggs', 'Yogurt')]"
      ]
     },
     "execution_count": 13,
     "metadata": {},
     "output_type": "execute_result"
    }
   ],
   "source": [
    "# extract all two-way combinations\n",
    "list(combinations(dataset[0], 2))"
   ]
  },
  {
   "cell_type": "markdown",
   "metadata": {},
   "source": [
    "We can use this approach to calculate `support` for each pair of items _from the entire dataset_."
   ]
  },
  {
   "cell_type": "code",
   "execution_count": 16,
   "metadata": {},
   "outputs": [
    {
     "data": {
      "text/plain": [
       "[('Yogurt', 'Kidney Beans'),\n",
       " ('Yogurt', 'Eggs'),\n",
       " ('Yogurt', 'Onion'),\n",
       " ('Yogurt', 'Nutmeg'),\n",
       " ('Yogurt', 'Milk')]"
      ]
     },
     "execution_count": 16,
     "metadata": {},
     "output_type": "execute_result"
    }
   ],
   "source": [
    "item_pairs = []\n",
    "\n",
    "for i, order in enumerate(dataset):\n",
    "    pairs = combinations(set(order), 2)\n",
    "    # for each pair\n",
    "    for pair in pairs:\n",
    "        item_pairs.append(pair)\n",
    "        \n",
    "item_pairs[:5]"
   ]
  },
  {
   "cell_type": "code",
   "execution_count": 17,
   "metadata": {},
   "outputs": [
    {
     "data": {
      "text/plain": [
       "56"
      ]
     },
     "execution_count": 17,
     "metadata": {},
     "output_type": "execute_result"
    }
   ],
   "source": [
    "len(item_pairs)"
   ]
  },
  {
   "cell_type": "markdown",
   "metadata": {},
   "source": [
    "Count how frequent each item-pair is."
   ]
  },
  {
   "cell_type": "code",
   "execution_count": 21,
   "metadata": {},
   "outputs": [],
   "source": [
    "item_pair_ct = Counter(tuple(sorted(pair)) for pair in item_pairs)"
   ]
  },
  {
   "cell_type": "code",
   "execution_count": 23,
   "metadata": {},
   "outputs": [
    {
     "data": {
      "text/plain": [
       "Counter({('Kidney Beans', 'Yogurt'): 3,\n",
       "         ('Eggs', 'Yogurt'): 2,\n",
       "         ('Onion', 'Yogurt'): 2,\n",
       "         ('Nutmeg', 'Yogurt'): 2,\n",
       "         ('Milk', 'Yogurt'): 2,\n",
       "         ('Eggs', 'Kidney Beans'): 4,\n",
       "         ('Kidney Beans', 'Onion'): 3,\n",
       "         ('Kidney Beans', 'Nutmeg'): 2,\n",
       "         ('Kidney Beans', 'Milk'): 3,\n",
       "         ('Eggs', 'Onion'): 3,\n",
       "         ('Eggs', 'Nutmeg'): 2,\n",
       "         ('Eggs', 'Milk'): 2,\n",
       "         ('Nutmeg', 'Onion'): 2,\n",
       "         ('Milk', 'Onion'): 1,\n",
       "         ('Milk', 'Nutmeg'): 1,\n",
       "         ('Dill', 'Yogurt'): 1,\n",
       "         ('Dill', 'Kidney Beans'): 1,\n",
       "         ('Dill', 'Eggs'): 1,\n",
       "         ('Dill', 'Onion'): 1,\n",
       "         ('Dill', 'Nutmeg'): 1,\n",
       "         ('Apple', 'Eggs'): 1,\n",
       "         ('Apple', 'Kidney Beans'): 1,\n",
       "         ('Apple', 'Milk'): 1,\n",
       "         ('Corn', 'Yogurt'): 1,\n",
       "         ('Garlic', 'Yogurt'): 1,\n",
       "         ('Corn', 'Kidney Beans'): 2,\n",
       "         ('Garlic', 'Kidney Beans'): 1,\n",
       "         ('Corn', 'Milk'): 1,\n",
       "         ('Corn', 'Garlic'): 1,\n",
       "         ('Garlic', 'Milk'): 1,\n",
       "         ('Ice cream', 'Kidney Beans'): 1,\n",
       "         ('Corn', 'Eggs'): 1,\n",
       "         ('Corn', 'Onion'): 1,\n",
       "         ('Corn', 'Ice cream'): 1,\n",
       "         ('Eggs', 'Ice cream'): 1,\n",
       "         ('Ice cream', 'Onion'): 1})"
      ]
     },
     "execution_count": 23,
     "metadata": {},
     "output_type": "execute_result"
    }
   ],
   "source": [
    "item_pair_ct"
   ]
  },
  {
   "cell_type": "markdown",
   "metadata": {},
   "source": [
    "We must use `sorted()` option here because otherwise (Eggs, Kidney Beans) is considered a different set than (Kidney Beans, Eggs)."
   ]
  },
  {
   "cell_type": "code",
   "execution_count": 32,
   "metadata": {},
   "outputs": [
    {
     "data": {
      "text/plain": [
       "[(('Eggs', 'Kidney Beans'), 4),\n",
       " (('Kidney Beans', 'Yogurt'), 3),\n",
       " (('Kidney Beans', 'Onion'), 3),\n",
       " (('Kidney Beans', 'Milk'), 3),\n",
       " (('Eggs', 'Onion'), 3),\n",
       " (('Eggs', 'Yogurt'), 2),\n",
       " (('Onion', 'Yogurt'), 2),\n",
       " (('Nutmeg', 'Yogurt'), 2),\n",
       " (('Milk', 'Yogurt'), 2),\n",
       " (('Kidney Beans', 'Nutmeg'), 2),\n",
       " (('Eggs', 'Nutmeg'), 2),\n",
       " (('Eggs', 'Milk'), 2),\n",
       " (('Nutmeg', 'Onion'), 2),\n",
       " (('Corn', 'Kidney Beans'), 2),\n",
       " (('Milk', 'Onion'), 1),\n",
       " (('Milk', 'Nutmeg'), 1),\n",
       " (('Dill', 'Yogurt'), 1),\n",
       " (('Dill', 'Kidney Beans'), 1),\n",
       " (('Dill', 'Eggs'), 1),\n",
       " (('Dill', 'Onion'), 1),\n",
       " (('Dill', 'Nutmeg'), 1),\n",
       " (('Apple', 'Eggs'), 1),\n",
       " (('Apple', 'Kidney Beans'), 1),\n",
       " (('Apple', 'Milk'), 1),\n",
       " (('Corn', 'Yogurt'), 1),\n",
       " (('Garlic', 'Yogurt'), 1),\n",
       " (('Garlic', 'Kidney Beans'), 1),\n",
       " (('Corn', 'Milk'), 1),\n",
       " (('Corn', 'Garlic'), 1),\n",
       " (('Garlic', 'Milk'), 1),\n",
       " (('Ice cream', 'Kidney Beans'), 1),\n",
       " (('Corn', 'Eggs'), 1),\n",
       " (('Corn', 'Onion'), 1),\n",
       " (('Corn', 'Ice cream'), 1),\n",
       " (('Eggs', 'Ice cream'), 1),\n",
       " (('Ice cream', 'Onion'), 1)]"
      ]
     },
     "execution_count": 32,
     "metadata": {},
     "output_type": "execute_result"
    }
   ],
   "source": [
    "# store the sorted results\n",
    "item_pair_ct_sorted = sorted(item_pair_ct.items(), \n",
    "                             key=lambda x: x[1], \n",
    "                             reverse=True)\n",
    "item_pair_ct_sorted"
   ]
  },
  {
   "cell_type": "code",
   "execution_count": 33,
   "metadata": {},
   "outputs": [
    {
     "data": {
      "text/plain": [
       "{('Eggs', 'Kidney Beans'): 0.8,\n",
       " ('Kidney Beans', 'Yogurt'): 0.6,\n",
       " ('Kidney Beans', 'Onion'): 0.6,\n",
       " ('Kidney Beans', 'Milk'): 0.6,\n",
       " ('Eggs', 'Onion'): 0.6,\n",
       " ('Eggs', 'Yogurt'): 0.4,\n",
       " ('Onion', 'Yogurt'): 0.4,\n",
       " ('Nutmeg', 'Yogurt'): 0.4,\n",
       " ('Milk', 'Yogurt'): 0.4,\n",
       " ('Kidney Beans', 'Nutmeg'): 0.4,\n",
       " ('Eggs', 'Nutmeg'): 0.4,\n",
       " ('Eggs', 'Milk'): 0.4,\n",
       " ('Nutmeg', 'Onion'): 0.4,\n",
       " ('Corn', 'Kidney Beans'): 0.4,\n",
       " ('Milk', 'Onion'): 0.2,\n",
       " ('Milk', 'Nutmeg'): 0.2,\n",
       " ('Dill', 'Yogurt'): 0.2,\n",
       " ('Dill', 'Kidney Beans'): 0.2,\n",
       " ('Dill', 'Eggs'): 0.2,\n",
       " ('Dill', 'Onion'): 0.2,\n",
       " ('Dill', 'Nutmeg'): 0.2,\n",
       " ('Apple', 'Eggs'): 0.2,\n",
       " ('Apple', 'Kidney Beans'): 0.2,\n",
       " ('Apple', 'Milk'): 0.2,\n",
       " ('Corn', 'Yogurt'): 0.2,\n",
       " ('Garlic', 'Yogurt'): 0.2,\n",
       " ('Garlic', 'Kidney Beans'): 0.2,\n",
       " ('Corn', 'Milk'): 0.2,\n",
       " ('Corn', 'Garlic'): 0.2,\n",
       " ('Garlic', 'Milk'): 0.2,\n",
       " ('Ice cream', 'Kidney Beans'): 0.2,\n",
       " ('Corn', 'Eggs'): 0.2,\n",
       " ('Corn', 'Onion'): 0.2,\n",
       " ('Corn', 'Ice cream'): 0.2,\n",
       " ('Eggs', 'Ice cream'): 0.2,\n",
       " ('Ice cream', 'Onion'): 0.2}"
      ]
     },
     "execution_count": 33,
     "metadata": {},
     "output_type": "execute_result"
    }
   ],
   "source": [
    "item_pair_dict = {}\n",
    "\n",
    "for i, pair in enumerate(item_pair_ct_sorted):\n",
    "    item_pair_dict[pair[0]] = pair[1] / len(dataset)\n",
    "    \n",
    "item_pair_dict"
   ]
  },
  {
   "cell_type": "markdown",
   "metadata": {},
   "source": [
    "### `Support` Filter"
   ]
  },
  {
   "cell_type": "code",
   "execution_count": 34,
   "metadata": {},
   "outputs": [
    {
     "data": {
      "text/plain": [
       "Kidney Beans    1.0\n",
       "Eggs            0.8\n",
       "Yogurt          0.6\n",
       "Onion           0.6\n",
       "Milk            0.6\n",
       "dtype: float64"
      ]
     },
     "execution_count": 34,
     "metadata": {},
     "output_type": "execute_result"
    }
   ],
   "source": [
    "# for this exercise, we will use a support threshold of 0.6\n",
    "min_support = 0.5\n",
    "\n",
    "# extract all items that satisfy the support criterion\n",
    "item_supports[item_supports > min_support]"
   ]
  },
  {
   "cell_type": "code",
   "execution_count": null,
   "metadata": {},
   "outputs": [],
   "source": [
    "# print all item-sets that satisfy the support criterion\n",
    "for key, value item_pair_dict.items():\n",
    "    if value > min_support:\n",
    "        prin"
   ]
  },
  {
   "cell_type": "markdown",
   "metadata": {},
   "source": [
    "______"
   ]
  },
  {
   "cell_type": "markdown",
   "metadata": {},
   "source": [
    "Instead of doing all these calculations manually, we can use `mlxtend`."
   ]
  },
  {
   "cell_type": "code",
   "execution_count": null,
   "metadata": {},
   "outputs": [],
   "source": [
    "from mlxtend.frequent_patterns import apriori\n",
    "\n",
    "frequent_itemsets = apriori(df, min_support=0.5, use_colnames=True)\n",
    "\n",
    "frequent_itemsets"
   ]
  },
  {
   "cell_type": "code",
   "execution_count": null,
   "metadata": {},
   "outputs": [],
   "source": [
    "from mlxtend.frequent_patterns import association_rules\n",
    "\n",
    "association_rules(frequent_itemsets, metric='confidence', min_threshold=0.7)"
   ]
  },
  {
   "cell_type": "markdown",
   "metadata": {},
   "source": [
    "If you are interested in rules according to a different metric of interest, you can simply adjust the metric and `min_threshold` arguments . E.g. if you are only interested in rules that have a `lift` of >= 1.2, you would do the following:"
   ]
  },
  {
   "cell_type": "code",
   "execution_count": null,
   "metadata": {},
   "outputs": [],
   "source": [
    "rules = association_rules(frequent_itemsets, metric='lift', min_threshold=1.2)\n",
    "\n",
    "rules"
   ]
  },
  {
   "cell_type": "markdown",
   "metadata": {},
   "source": [
    "Pandas DataFrames make it easy to filter the results further. Let's say we are ony interested in rules that satisfy the following criteria:\n",
    "\n",
    "1. at least 2 antecedents\n",
    "2. a confidence > 0.75\n",
    "3. a lift score > 1.2\n",
    "\n",
    "We could compute the antecedent length as follows:"
   ]
  },
  {
   "cell_type": "code",
   "execution_count": null,
   "metadata": {},
   "outputs": [],
   "source": [
    "rules['antecedent_len'] = rules['antecedents'].apply(lambda x: len(x))\n",
    "\n",
    "rules"
   ]
  },
  {
   "cell_type": "markdown",
   "metadata": {},
   "source": [
    "Then, we can use pandas' selection syntax as shown below:"
   ]
  },
  {
   "cell_type": "code",
   "execution_count": null,
   "metadata": {},
   "outputs": [],
   "source": [
    "rules[ (rules['antecedent_len'] >= 2) &\n",
    "       (rules['confidence'] > 0.75) &\n",
    "       (rules['lift'] > 1.2) ]"
   ]
  }
 ],
 "metadata": {
  "kernelspec": {
   "display_name": "Python 3",
   "language": "python",
   "name": "python3"
  },
  "language_info": {
   "codemirror_mode": {
    "name": "ipython",
    "version": 3
   },
   "file_extension": ".py",
   "mimetype": "text/x-python",
   "name": "python",
   "nbconvert_exporter": "python",
   "pygments_lexer": "ipython3",
   "version": "3.7.9"
  }
 },
 "nbformat": 4,
 "nbformat_minor": 2
}
