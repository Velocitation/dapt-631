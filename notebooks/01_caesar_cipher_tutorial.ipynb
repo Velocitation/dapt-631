{
 "cells": [
  {
   "cell_type": "markdown",
   "metadata": {},
   "source": [
    "This notebook provides an introduction to some basic string manipulation and creating Python functions to encrypt a string (message) using the *Caesar Cipher* method that was discussed during the **Introduction to Data Mining** lecture.\n",
    "\n",
    "This is a _tutorial_ version of the `01_caesar_cipher.ipynb` notebook."
   ]
  },
  {
   "cell_type": "markdown",
   "metadata": {},
   "source": [
    "# Caesar Cipher"
   ]
  },
  {
   "cell_type": "markdown",
   "metadata": {},
   "source": [
    "![title](http://www.maths-resources.net/enrich/codes/caesar/images/caesarwheel3.gif)\n",
    "\n",
    "The letters on the outer circle represent letters in the original text (message). The letters on the inner circle represent the (encoded) cipher text.\n",
    "\n",
    "Here, the inner circle is rotated to the left by 3 (`k`=3). "
   ]
  },
  {
   "cell_type": "markdown",
   "metadata": {},
   "source": [
    "### The `chr()` and `ord()` Functions"
   ]
  },
  {
   "cell_type": "markdown",
   "metadata": {},
   "source": [
    "`ord(c)`: Returns an integer representing the Unicode code point of the character `c`."
   ]
  },
  {
   "cell_type": "code",
   "execution_count": 7,
   "metadata": {},
   "outputs": [
    {
     "data": {
      "text/plain": [
       "65"
      ]
     },
     "execution_count": 7,
     "metadata": {},
     "output_type": "execute_result"
    }
   ],
   "source": [
    "ord('A')\n",
    "type(ord)"
   ]
  },
  {
   "cell_type": "markdown",
   "metadata": {},
   "source": [
    "`chr(i)`: Returns a string of one character whose ASCII code is the integer `i`."
   ]
  },
  {
   "cell_type": "code",
   "execution_count": 6,
   "metadata": {},
   "outputs": [
    {
     "data": {
      "text/plain": [
       "'A'"
      ]
     },
     "execution_count": 6,
     "metadata": {},
     "output_type": "execute_result"
    }
   ],
   "source": [
    "chr(65)"
   ]
  },
  {
   "cell_type": "code",
   "execution_count": 8,
   "metadata": {},
   "outputs": [
    {
     "data": {
      "text/plain": [
       "'D'"
      ]
     },
     "execution_count": 8,
     "metadata": {},
     "output_type": "execute_result"
    }
   ],
   "source": [
    "k = 3\n",
    "\n",
    "chr(65 + k)"
   ]
  },
  {
   "cell_type": "code",
   "execution_count": 9,
   "metadata": {},
   "outputs": [
    {
     "data": {
      "text/plain": [
       "68"
      ]
     },
     "execution_count": 9,
     "metadata": {},
     "output_type": "execute_result"
    }
   ],
   "source": [
    "ord(chr(65 + k))"
   ]
  },
  {
   "cell_type": "markdown",
   "metadata": {},
   "source": [
    "The `ord()` and `chr()` functions are the opposite of each other."
   ]
  },
  {
   "cell_type": "markdown",
   "metadata": {},
   "source": [
    "### Caesar cipher in Python"
   ]
  },
  {
   "cell_type": "markdown",
   "metadata": {},
   "source": [
    "1. Define a message text, and a key."
   ]
  },
  {
   "cell_type": "code",
   "execution_count": 10,
   "metadata": {},
   "outputs": [],
   "source": [
    "msg = 'Et tu, Brute?'\n",
    "#k=3"
   ]
  },
  {
   "cell_type": "markdown",
   "metadata": {},
   "source": [
    "Print the message and key."
   ]
  },
  {
   "cell_type": "code",
   "execution_count": 11,
   "metadata": {},
   "outputs": [
    {
     "name": "stdout",
     "output_type": "stream",
     "text": [
      "The input message is Et tu, Brute?, and the key is 3\n"
     ]
    }
   ],
   "source": [
    "print(f'The input message is {msg}, and the key is {k}')\n"
   ]
  },
  {
   "cell_type": "markdown",
   "metadata": {},
   "source": [
    "We will use this key to encrypt the message."
   ]
  },
  {
   "cell_type": "markdown",
   "metadata": {},
   "source": [
    "2. Encrypt the message, one character at a time"
   ]
  },
  {
   "cell_type": "code",
   "execution_count": 18,
   "metadata": {},
   "outputs": [
    {
     "name": "stdout",
     "output_type": "stream",
     "text": [
      "E --> H\n",
      "t --> w\n",
      "  --> #\n",
      "t --> w\n",
      "u --> x\n",
      ", --> /\n",
      "  --> #\n",
      "B --> E\n",
      "r --> u\n",
      "u --> x\n",
      "t --> w\n",
      "e --> h\n",
      "? --> B\n"
     ]
    }
   ],
   "source": [
    "for c in msg:\n",
    "    #print(c)\n",
    "    num = ord(c)\n",
    "    num = num + k\n",
    "    new_char = chr(num)\n",
    "    print(f'{c} --> {new_char}')\n"
   ]
  },
  {
   "cell_type": "markdown",
   "metadata": {},
   "source": [
    "Let's encrypt only letters in the alphabet, and ignore special character like exclamation points and spaces. We can use `isalpha()` function for this purpose."
   ]
  },
  {
   "cell_type": "code",
   "execution_count": 19,
   "metadata": {},
   "outputs": [
    {
     "data": {
      "text/plain": [
       "False"
      ]
     },
     "execution_count": 19,
     "metadata": {},
     "output_type": "execute_result"
    }
   ],
   "source": [
    "my_char = '0'\n",
    "my_char.isalpha()"
   ]
  },
  {
   "cell_type": "code",
   "execution_count": 20,
   "metadata": {},
   "outputs": [
    {
     "name": "stdout",
     "output_type": "stream",
     "text": [
      "E --> H\n",
      "t --> w\n",
      "  -->  \n",
      "t --> w\n",
      "u --> x\n",
      ", --> ,\n",
      "  -->  \n",
      "B --> E\n",
      "r --> u\n",
      "u --> x\n",
      "t --> w\n",
      "e --> h\n",
      "? --> ?\n"
     ]
    }
   ],
   "source": [
    "for c in msg:\n",
    "    #print(c)\n",
    "    if c.isalpha():\n",
    "        num = ord(c)\n",
    "        num = num + k\n",
    "        new_char = chr(num)\n",
    "        print(f'{c} --> {new_char}')\n",
    "    else:\n",
    "        print(f'{c} --> {c}')"
   ]
  },
  {
   "cell_type": "markdown",
   "metadata": {},
   "source": [
    "3. Encrypt the message, one character at a time. Ignore special characters."
   ]
  },
  {
   "cell_type": "code",
   "execution_count": null,
   "metadata": {},
   "outputs": [],
   "source": [
    "for input_char in message:\n",
    "    \n",
    "    # check if this character is a letter\n",
    "    if ___:\n",
    "        \n",
    "        # retrieve the ASCII code for this letter \n",
    "        num = ord(input_char)\n",
    "        \n",
    "        # add the key to that code to encrupt this letter\n",
    "        num += k\n",
    "        \n",
    "        # retrieve the character for that ASCII code\n",
    "        encrypted_char = chr(num)\n",
    "    \n",
    "    else:\n",
    "        \n",
    "        # if special character, keep it as it is\n",
    "        encrypted_char = input_char\n",
    "    \n",
    "    print (input_char, '-->', encrypted_char)"
   ]
  },
  {
   "cell_type": "markdown",
   "metadata": {},
   "source": [
    "Notice how `num = num + k` can also be written as `num += k`."
   ]
  },
  {
   "cell_type": "markdown",
   "metadata": {},
   "source": [
    "4. Save the encypted message in a single string."
   ]
  },
  {
   "cell_type": "code",
   "execution_count": 21,
   "metadata": {},
   "outputs": [],
   "source": [
    "# initialize the output (encrypted) message as an empty string\n",
    "encrypted_msg = ''\n",
    "\n",
    "for input_char in msg:\n",
    "    \n",
    "    # check if this character is a letter\n",
    "    if input_char.isalpha():\n",
    "        \n",
    "        # retrieve the ASCII code for this letter         \n",
    "        num = ord(input_char)\n",
    "        \n",
    "        # add the key to that code to encrupt this letter\n",
    "        num += k #same thing is num = num + k\n",
    "        \n",
    "        # append the encrypted char to the encrypted message string\n",
    "        encrypted_msg += chr(num)\n",
    "        \n",
    "    else:\n",
    "        \n",
    "        # if special character, append the original character\n",
    "        encrypted_msg += input_char"
   ]
  },
  {
   "cell_type": "code",
   "execution_count": 23,
   "metadata": {},
   "outputs": [
    {
     "name": "stdout",
     "output_type": "stream",
     "text": [
      "Input message: Et tu, Brute?\n",
      "Encrypted message: Hw wx, Euxwh?\n"
     ]
    }
   ],
   "source": [
    "print ('Input message:', msg)\n",
    "\n",
    "print ('Encrypted message:', encrypted_msg)"
   ]
  },
  {
   "cell_type": "markdown",
   "metadata": {},
   "source": [
    "Let's try a different key."
   ]
  },
  {
   "cell_type": "code",
   "execution_count": 24,
   "metadata": {},
   "outputs": [
    {
     "name": "stdout",
     "output_type": "stream",
     "text": [
      "Input message: Et tu, Brute?\n",
      "Encrypted message: Jy yz, Gwzyj?\n"
     ]
    }
   ],
   "source": [
    "# define a new key\n",
    "k = 5\n",
    "\n",
    "# initialize the output (encrypted) message as an empty string\n",
    "encrypted_msg = ''\n",
    "\n",
    "for input_char in msg:\n",
    "    \n",
    "    # check if this character is a letter\n",
    "    if input_char.isalpha():\n",
    "        \n",
    "        # retrieve the ASCII code for this letter         \n",
    "        num = ord(input_char)\n",
    "        \n",
    "        # add the key to that code to encrupt this letter\n",
    "        num += k\n",
    "        \n",
    "        # append the encrypted char to the encrypted message string\n",
    "        encrypted_msg += chr(num)\n",
    "        \n",
    "    else:\n",
    "        \n",
    "        # if special character, append the original character\n",
    "        encrypted_msg += input_char\n",
    "\n",
    "print ('Input message:', msg)\n",
    "print ('Encrypted message:', encrypted_msg)"
   ]
  },
  {
   "cell_type": "markdown",
   "metadata": {},
   "source": [
    "If you want to try different messages and different keys, it's useful to create a **function**."
   ]
  },
  {
   "cell_type": "markdown",
   "metadata": {},
   "source": [
    "4. Let's create a function!"
   ]
  },
  {
   "cell_type": "code",
   "execution_count": 34,
   "metadata": {},
   "outputs": [],
   "source": [
    "def encrypted_msg(in_msg, key):\n",
    "    out_msg = '' #local variable, not accessible outside the func\n",
    "    for c in in_msg:\n",
    "        if c.isalpha():\n",
    "            out_msg += chr(ord(c) + key)\n",
    "        else:\n",
    "            out_msg += c\n",
    "    return out_msg"
   ]
  },
  {
   "cell_type": "code",
   "execution_count": 26,
   "metadata": {},
   "outputs": [
    {
     "data": {
      "text/plain": [
       "builtin_function_or_method"
      ]
     },
     "execution_count": 26,
     "metadata": {},
     "output_type": "execute_result"
    }
   ],
   "source": [
    "type(print)"
   ]
  },
  {
   "cell_type": "markdown",
   "metadata": {},
   "source": [
    "`encrypt_message` is a user defined function (UDF).\n",
    "\n",
    "Python also has a lot of built-in functions, such as `print()`."
   ]
  },
  {
   "cell_type": "code",
   "execution_count": 37,
   "metadata": {},
   "outputs": [
    {
     "data": {
      "text/plain": [
       "'Hw wx, Euxwh?'"
      ]
     },
     "execution_count": 37,
     "metadata": {},
     "output_type": "execute_result"
    }
   ],
   "source": [
    "encrypted_msg(msg, 3)"
   ]
  },
  {
   "cell_type": "code",
   "execution_count": null,
   "metadata": {},
   "outputs": [],
   "source": [
    "# call the function to encrypt the message\n",
    "\n",
    "___"
   ]
  },
  {
   "cell_type": "code",
   "execution_count": 40,
   "metadata": {},
   "outputs": [
    {
     "name": "stdout",
     "output_type": "stream",
     "text": [
      "Original message: Et tu, Brute?\n",
      "Encrypted message: N} }~, K{~}n?\n"
     ]
    }
   ],
   "source": [
    "# print the encrypted message\n",
    "\n",
    "print ('Original message:', msg)\n",
    "\n",
    "print ('Encrypted message:', encrypted_msg(msg, 9))"
   ]
  },
  {
   "cell_type": "markdown",
   "metadata": {},
   "source": [
    "**EXERCISE:** Modify the function to include</i> `k` <i>as one of its parameters."
   ]
  },
  {
   "cell_type": "code",
   "execution_count": null,
   "metadata": {},
   "outputs": [],
   "source": [
    "def encrypted_msg(in_msg, key):\n",
    "    out_msg = '' #local variable, not accessible outside the func\n",
    "    for c in in_msg:\n",
    "        if c.isalpha():\n",
    "            out_msg += chr(ord(c) + key)\n",
    "        else:\n",
    "            out_msg += c\n",
    "    return out_msg"
   ]
  },
  {
   "cell_type": "code",
   "execution_count": 41,
   "metadata": {},
   "outputs": [
    {
     "name": "stdout",
     "output_type": "stream",
     "text": [
      "Original message: Et tu, Brute?\n",
      "Encrypted message (k=3): Hw wx, Euxwh?\n",
      "Encrypted message (k=7): L{ {|, Iy|{l?\n",
      "Encrypted message (k=0): Et tu, Brute?\n"
     ]
    }
   ],
   "source": [
    "print ('Original message:', msg)\n",
    "print ('Encrypted message (k=3):', encrypted_msg(msg, 3))\n",
    "print ('Encrypted message (k=7):', encrypted_msg(msg, 7))\n",
    "print ('Encrypted message (k=0):', encrypted_msg(msg, 0))"
   ]
  },
  {
   "cell_type": "markdown",
   "metadata": {},
   "source": [
    "Encrypt a new message using this function."
   ]
  },
  {
   "cell_type": "code",
   "execution_count": null,
   "metadata": {},
   "outputs": [],
   "source": []
  },
  {
   "cell_type": "markdown",
   "metadata": {},
   "source": [
    "Notice that for `k=3`, letter 'y' would get encrypted into the the pipe symbol '|'.\n",
    "\n",
    "_See the [ASCII table](https://www.cs.cmu.edu/~pattis/15-1XX/common/handouts/ascii.html) for reference._"
   ]
  },
  {
   "cell_type": "markdown",
   "metadata": {},
   "source": [
    "Let's modify the function to avoid situations where the encrypted message contains non-alphabetic character(s). In other words, force the encryption to \"wrap around\" to the beginning of the alphabet if it encounters non-alphabetic characters."
   ]
  },
  {
   "cell_type": "markdown",
   "metadata": {},
   "source": [
    "5. Encrypt message using a function. Avoid special characters in the encrypted message."
   ]
  },
  {
   "cell_type": "code",
   "execution_count": 42,
   "metadata": {},
   "outputs": [],
   "source": [
    "def encrypt_message(in_message, key):\n",
    "\n",
    "    # Initialize the output (encrypted) message\n",
    "    out_message = ''\n",
    "\n",
    "    for in_char in in_message:\n",
    "        \n",
    "        if in_char.isalpha():\n",
    "            \n",
    "            # if letter, encrypt it\n",
    "            num = ord(in_char) + key\n",
    "            \n",
    "            # if the encrypted char is a special char,\n",
    "            #  then subtract 26 to wrap around to the beginning of the alphabet\n",
    "            \n",
    "            if in_char.isupper() and num > ord('Z'):\n",
    "                num -= 26\n",
    "            elif in_char.islower() and num > ord('z'):\n",
    "                num -= 26\n",
    "\n",
    "            # append the encrypted letter to the output string\n",
    "            out_message += chr(num)\n",
    "            \n",
    "        else:\n",
    "            \n",
    "            # if not a letter, append to the ouput string as is\n",
    "            out_message += in_char\n",
    "\n",
    "    return out_message"
   ]
  },
  {
   "cell_type": "code",
   "execution_count": 56,
   "metadata": {},
   "outputs": [],
   "source": [
    "def encrypt_message(in_message, key):\n",
    "    out_message = ''\n",
    "\n",
    "    for in_char in in_message:\n",
    "        if in_char.isalpha():\n",
    "            num = ord(in_char) + key\n",
    "            if not chr(num).isalpha():\n",
    "                num -= 26\n",
    "            out_message += chr(num)\n",
    "        else:\n",
    "            out_message += in_char\n",
    "\n",
    "    return out_message"
   ]
  },
  {
   "cell_type": "code",
   "execution_count": 57,
   "metadata": {},
   "outputs": [
    {
     "name": "stdout",
     "output_type": "stream",
     "text": [
      "Original message: Et tu, Brute?\n",
      "Encrypted message (k=3): Hw wx, Euxwh?\n",
      "Encrypted message (k=3): La ab, Iybal?\n"
     ]
    }
   ],
   "source": [
    "print ('Original message:', msg)\n",
    "print ('Encrypted message (k=3):', encrypt_message(msg, 3))\n",
    "print ('Encrypted message (k=3):', encrypt_message(msg, 7))"
   ]
  },
  {
   "cell_type": "markdown",
   "metadata": {},
   "source": [
    "In your first homework assignment, you will be asked to write a function to _decode_ an encrypted message using a key."
   ]
  }
 ],
 "metadata": {
  "kernelspec": {
   "display_name": "Python 3",
   "language": "python",
   "name": "python3"
  },
  "language_info": {
   "codemirror_mode": {
    "name": "ipython",
    "version": 3
   },
   "file_extension": ".py",
   "mimetype": "text/x-python",
   "name": "python",
   "nbconvert_exporter": "python",
   "pygments_lexer": "ipython3",
   "version": "3.8.3"
  }
 },
 "nbformat": 4,
 "nbformat_minor": 2
}
