{
 "cells": [
  {
   "cell_type": "markdown",
   "metadata": {},
   "source": [
    "This notebook provides an introduction to some basic string manipulation and creating Python functions to encrypt a string (message) using the *Caesar Cipher* method that was discussed during the **Introduction to Data Mining** lecture."
   ]
  },
  {
   "cell_type": "markdown",
   "metadata": {},
   "source": [
    "# Caesar Cipher"
   ]
  },
  {
   "cell_type": "markdown",
   "metadata": {},
   "source": [
    "![title](http://www.maths-resources.net/enrich/codes/caesar/images/caesarwheel3.gif)\n",
    "\n",
    "The letters on the outer circle represent letters in the original text (message). The letters on the inner circle represent the (encoded) cipher text.\n",
    "\n",
    "Here, the inner circle is rotated to the left by 3 (`k`=3), so the letter 'A' in the original text would get encoded as 'D' in the encrypted text."
   ]
  },
  {
   "cell_type": "code",
   "execution_count": null,
   "metadata": {},
   "outputs": [],
   "source": [
    "message = 'Et tu, Brute?'"
   ]
  },
  {
   "cell_type": "code",
   "execution_count": null,
   "metadata": {},
   "outputs": [],
   "source": [
    "# define a new key\n",
    "k = 5\n",
    "\n",
    "# initialize the output (encrypted) message as an empty string\n",
    "encrypted_message = ''\n",
    "\n",
    "for input_char in message:\n",
    "    \n",
    "    # check if this character is a letter\n",
    "    if input_char.isalpha():\n",
    "        \n",
    "        # retrieve the ASCII code for this letter         \n",
    "        num = ord(input_char)\n",
    "        \n",
    "        # add the key to that code to encrupt this letter\n",
    "        num += k\n",
    "        \n",
    "        # append the encrypted char to the encrypted message string\n",
    "        encrypted_message += chr(num)\n",
    "        \n",
    "    else:\n",
    "        \n",
    "        # if special character, append the original character\n",
    "        encrypted_message += input_char\n",
    "\n",
    "print ('Input message:', message)\n",
    "print ('Encrypted message:', encrypted_message)"
   ]
  },
  {
   "cell_type": "markdown",
   "metadata": {},
   "source": [
    "If you want to try different messages and different keys, it's useful to create a **function**."
   ]
  },
  {
   "cell_type": "code",
   "execution_count": null,
   "metadata": {},
   "outputs": [],
   "source": [
    "def encrypt_message(in_message):\n",
    "\n",
    "    # initialize the output (encrypted) message\n",
    "    out_message = ''\n",
    "\n",
    "    for in_char in in_message:\n",
    "        \n",
    "        if in_char.isalpha():\n",
    "            \n",
    "            # if letter, encrypt it\n",
    "            out_message += chr(ord(in_char) + 3)\n",
    "        \n",
    "        else:\n",
    "            \n",
    "            # otherwise, keep it as is\n",
    "            out_message += in_char\n",
    "\n",
    "    return out_message"
   ]
  },
  {
   "cell_type": "code",
   "execution_count": null,
   "metadata": {},
   "outputs": [],
   "source": [
    "type(encrypt_message)"
   ]
  },
  {
   "cell_type": "markdown",
   "metadata": {},
   "source": [
    "`encrypt_message` is a user defined function (UDF).\n",
    "\n",
    "Python also has a lot of built-in functions, such as `print()`."
   ]
  },
  {
   "cell_type": "code",
   "execution_count": null,
   "metadata": {},
   "outputs": [],
   "source": [
    "type(print)"
   ]
  },
  {
   "cell_type": "code",
   "execution_count": null,
   "metadata": {},
   "outputs": [],
   "source": [
    "# call the function to encrypt the message\n",
    "\n",
    "encrypted_msg = encrypt_message(message)"
   ]
  },
  {
   "cell_type": "code",
   "execution_count": null,
   "metadata": {},
   "outputs": [],
   "source": [
    "# print the encrypted message\n",
    "\n",
    "print ('Original message:', message)\n",
    "\n",
    "print ('Encrypted message:', encrypted_msg)"
   ]
  },
  {
   "cell_type": "markdown",
   "metadata": {},
   "source": [
    "**EXERCISE:** Modify the function to include</i> `k` <i>as one of its parameters."
   ]
  },
  {
   "cell_type": "code",
   "execution_count": null,
   "metadata": {},
   "outputs": [],
   "source": [
    "###-- WRITE YOUR CODE HERE"
   ]
  },
  {
   "cell_type": "code",
   "execution_count": null,
   "metadata": {},
   "outputs": [],
   "source": [
    "print ('Original message:', message)\n",
    "\n",
    "print ('Encrypted message (k=3):', encrypt_message(message, 3))\n",
    "\n",
    "print ('Encrypted message (k=7):', encrypt_message(message, 7))\n",
    "\n",
    "print ('Encrypted message (k=0):', encrypt_message(message, 0))"
   ]
  },
  {
   "cell_type": "markdown",
   "metadata": {},
   "source": [
    "_Encrypt a new message using this function._"
   ]
  },
  {
   "cell_type": "code",
   "execution_count": null,
   "metadata": {},
   "outputs": [],
   "source": [
    "print ('Encrypted message (k=3):', \n",
    "       encrypt_message('Virginia Commonwealth University', 3))"
   ]
  },
  {
   "cell_type": "markdown",
   "metadata": {},
   "source": [
    "Notice that for `k=3`, letter 'y' would get encrypted into the the pipe symbol '|'.\n",
    "\n",
    "_See the [ASCII table](https://www.cs.cmu.edu/~pattis/15-1XX/common/handouts/ascii.html) for reference._"
   ]
  },
  {
   "cell_type": "markdown",
   "metadata": {},
   "source": [
    "Let's modify the function to avoid situations where the encrypted message contains non-alphabetic character(s). In other words, force the encryption to \"wrap around\" to the beginning of the alphabet if it encounters non-alphabetic characters."
   ]
  },
  {
   "cell_type": "markdown",
   "metadata": {},
   "source": [
    "Encrypt message using a function. Avoid special characters in the encrypted message."
   ]
  },
  {
   "cell_type": "code",
   "execution_count": null,
   "metadata": {},
   "outputs": [],
   "source": [
    "def encrypt_message(in_message, key):\n",
    "\n",
    "    # Initialize the output (encrypted) message\n",
    "    out_message = ''\n",
    "\n",
    "    for in_char in in_message:\n",
    "        \n",
    "        if in_char.isalpha():\n",
    "            \n",
    "            # if letter, encrypt it\n",
    "            num = ord(in_char) + key\n",
    "            \n",
    "            # if the encrypted char is a special char,\n",
    "            #  then subtract 26 to wrap around to the beginning of the alphabet\n",
    "            \n",
    "            if in_char.isupper() and num > ord('Z'):\n",
    "                num -= 26\n",
    "                \n",
    "            elif in_char.islower() and num > ord('z'):\n",
    "                num -= 26\n",
    "            \n",
    "            # append the encrypted letter to the output string\n",
    "            out_message += chr(num)\n",
    "            \n",
    "        else:\n",
    "            \n",
    "            # if not a letter, append to the ouput string as is\n",
    "            out_message += in_char\n",
    "\n",
    "    return out_message"
   ]
  },
  {
   "cell_type": "code",
   "execution_count": null,
   "metadata": {},
   "outputs": [],
   "source": [
    "print ('Encrypted message (k=3):', \n",
    "       encrypt_message('Virginia Commonwealth University', 3))"
   ]
  },
  {
   "cell_type": "markdown",
   "metadata": {},
   "source": [
    "Now, the letter 'y' gets encrypted as 'b' instead of the pipe symble '|'."
   ]
  },
  {
   "cell_type": "code",
   "execution_count": null,
   "metadata": {},
   "outputs": [],
   "source": [
    "print ('Original message:', message)\n",
    "\n",
    "print ('Encrypted message (k=3):', encrypt_message(message, 3))\n",
    "\n",
    "print ('Encrypted message (k=3):', encrypt_message(message, 7))"
   ]
  },
  {
   "cell_type": "markdown",
   "metadata": {},
   "source": [
    "In your first homework assignment, you are asked to write a function to _decode_ an encrypted message using a key."
   ]
  }
 ],
 "metadata": {
  "kernelspec": {
   "display_name": "Python 3 (ipykernel)",
   "language": "python",
   "name": "python3"
  },
  "language_info": {
   "codemirror_mode": {
    "name": "ipython",
    "version": 3
   },
   "file_extension": ".py",
   "mimetype": "text/x-python",
   "name": "python",
   "nbconvert_exporter": "python",
   "pygments_lexer": "ipython3",
   "version": "3.8.10"
  }
 },
 "nbformat": 4,
 "nbformat_minor": 2
}
